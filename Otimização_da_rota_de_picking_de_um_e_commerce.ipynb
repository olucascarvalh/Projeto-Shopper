{
  "nbformat": 4,
  "nbformat_minor": 0,
  "metadata": {
    "colab": {
      "provenance": [],
      "authorship_tag": "ABX9TyNJxzqJpcuSPJYTlE0fouAs",
      "include_colab_link": true
    },
    "kernelspec": {
      "name": "python3",
      "display_name": "Python 3"
    },
    "language_info": {
      "name": "python"
    }
  },
  "cells": [
    {
      "cell_type": "markdown",
      "metadata": {
        "id": "view-in-github",
        "colab_type": "text"
      },
      "source": [
        "<a href=\"https://colab.research.google.com/github/olucascarvalh/Projeto-Shopper/blob/main/Otimiza%C3%A7%C3%A3o_da_rota_de_picking_de_um_e_commerce.ipynb\" target=\"_parent\"><img src=\"https://colab.research.google.com/assets/colab-badge.svg\" alt=\"Open In Colab\"/></a>"
      ]
    },
    {
      "cell_type": "markdown",
      "source": [
        "# Descrição das bases\n",
        "\n",
        "\n",
        "--------------------------------------------------------------------------------------\n",
        "Arquivo: composicao_pedidos_202504231847.txt\n",
        "Descrição: Lista pedidos e seus skus por data de entrega\n",
        "\n",
        "\torder_id =  ID unico do pedido\n",
        "\tdelivery_date = Data de entrega do pedido\n",
        "\tsku_id = id unico do produto\n",
        "\n",
        "--------------------------------------------------------------------------------------\n",
        "Arquivo: produtos_caracteristicas_202504231911\n",
        "Descrição: Lista produtos, sua classificação e rua atual do produto\n",
        "\n",
        "\tsku_id - id unico do prodto\n",
        "\trua - Nome da rua em que o SKU está localizado atualmente\n",
        "\tcategoria = Indica categoria Alimentos, Higiene, Limpeza e Outros\n",
        "\tqtd_posicoes = Indica quantas posiçõe são necessarias para armazenar o produto\n",
        "\n",
        "Nota: Quando a rua for igual a \"*\" indica que o produto foi inativado\n",
        "\n",
        "\n",
        "--------------------------------------------------------------------------------------\n",
        "Arquivo: MAPEAMENTO DE GALPÃO\n",
        "\n",
        "    Rota (M) é o custo em metros de entrar na rua\n",
        "    Sentido - Indica qual é a mão da rua"
      ],
      "metadata": {
        "id": "GHjpeCq8v9fz"
      }
    },
    {
      "cell_type": "code",
      "execution_count": 6,
      "metadata": {
        "colab": {
          "base_uri": "https://localhost:8080/"
        },
        "id": "6hNciC4rrwXk",
        "outputId": "dacfa510-885d-4504-cb82-3606ff53dd8f"
      },
      "outputs": [
        {
          "output_type": "stream",
          "name": "stdout",
          "text": [
            "    Unnamed: 0 MAPEAMENTO DE GALPÃO Unnamed: 2    Unnamed: 3 Unnamed: 4  \\\n",
            "0          NaN                  NaN        NaN           NaN        NaN   \n",
            "1          NaN                  Rua      Sigla  Qtd Posições   Rota (m)   \n",
            "2          NaN                Rua 1         R1            60         43   \n",
            "3          NaN                Rua 2         R2            60         43   \n",
            "4          NaN                Rua 3         R3            60         43   \n",
            "5          NaN                Rua 4         R4            60         43   \n",
            "6          NaN                Rua 5         R5            60         43   \n",
            "7          NaN                Rua 6         R6           896         43   \n",
            "8          NaN                Rua 7         R7           896         45   \n",
            "9          NaN                Rua 8         R8           928         45   \n",
            "10         NaN    Ruas climatizadas         C1          1105         35   \n",
            "11         NaN                  NaN         C2           672         25   \n",
            "12         NaN                  NaN         C3           672         25   \n",
            "13         NaN                Rua 9         R9            60         45   \n",
            "14         NaN               Rua 10        R10           442         45   \n",
            "15         NaN               Rua 11        R11           801         45   \n",
            "16         NaN             Bolsão 1         B1           620         56   \n",
            "17         NaN             Bolsão 2         B2           620         63   \n",
            "18         NaN             Bolsão 3         B3           620         63   \n",
            "19         NaN             Bolsão 4         B4           600         63   \n",
            "\n",
            "    Unnamed: 5  \n",
            "0          NaN  \n",
            "1      Sentido  \n",
            "2   Para Baixo  \n",
            "3    Para Cima  \n",
            "4   Para Baixo  \n",
            "5    Para Cima  \n",
            "6   Para Baixo  \n",
            "7    Para Cima  \n",
            "8   Para Baixo  \n",
            "9    Para Cima  \n",
            "10  Para Baixo  \n",
            "11   Para Cima  \n",
            "12  Para baixo  \n",
            "13   Para Cima  \n",
            "14  Para Baixo  \n",
            "15   Para Cima  \n",
            "16         NaN  \n",
            "17         NaN  \n",
            "18         NaN  \n",
            "19         NaN  \n"
          ]
        }
      ],
      "source": [
        "# prompt: ler url de um arquixo xlsx\n",
        "\n",
        "import pandas as pd\n",
        "\n",
        "# Exemplo de uso:\n",
        "mapping = \"https://docs.google.com/spreadsheets/d/e/2PACX-1vTHZmg46V9_3NLLNAHekSi1UyqOZ_hXlFYWHhNGZuwQLmNmmiPELiIBIy2IpCnG0g/pub?output=xlsx\"\n",
        "# Substitua pela URL real\n",
        "df = ler_url_xlsx(mapping)\n",
        "\n",
        "if df is not None:\n",
        "  print(df.head(20)) # Exibe as primeiras linhas do DataFrame\n"
      ]
    },
    {
      "cell_type": "code",
      "source": [],
      "metadata": {
        "id": "jX8zVvTHu8bo"
      },
      "execution_count": null,
      "outputs": []
    }
  ]
}